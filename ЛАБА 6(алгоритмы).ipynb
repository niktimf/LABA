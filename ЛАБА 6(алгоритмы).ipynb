{
 "cells": [
  {
   "cell_type": "markdown",
   "source": [
    "# Лабораторная работа 6. Методы"
   ],
   "metadata": {
    "collapsed": false,
    "pycharm": {
     "name": "#%% md\n"
    }
   }
  },
  {
   "cell_type": "markdown",
   "source": [
    "## Задание 1.\n",
    "Написать программу, реализующую решение задачи на полный перебор, рассмотренные в качестве примеров на лекции:\n",
    "а) задача о куче (только методом двоичного перебора);\n",
    "б) задача о куче с вводом данных из текстового файла. Формат файла: в первой строке записано количество элементов N, во второй –N целочисленных элементов через пробел.\n",
    "в) задача о картах."
   ],
   "metadata": {
    "collapsed": false,
    "pycharm": {
     "name": "#%% md\n"
    }
   }
  },
  {
   "cell_type": "code",
   "execution_count": 9,
   "outputs": [
    {
     "name": "stdout",
     "output_type": "stream",
     "text": [
      "[(0, 0, 0, 0),\n",
      " (0, 0, 0, 1),\n",
      " (0, 0, 1, 0),\n",
      " (0, 0, 1, 1),\n",
      " (0, 1, 0, 0),\n",
      " (0, 1, 0, 1),\n",
      " (0, 1, 1, 0),\n",
      " (0, 1, 1, 1)]\n"
     ]
    }
   ],
   "source": [
    "from itertools import product\n",
    "import pprint\n",
    "\n",
    "N = 3\n",
    "arr = list(product([0],*[[0,1] for _ in range(N)]))\n",
    "pprint.pprint(arr)"
   ],
   "metadata": {
    "collapsed": false,
    "pycharm": {
     "name": "#%%\n"
    }
   }
  },
  {
   "cell_type": "code",
   "execution_count": 12,
   "outputs": [
    {
     "name": "stdout",
     "output_type": "stream",
     "text": [
      "[([0, 0, 0], 0),\n",
      " ([0, 0, 1], 4),\n",
      " ([0, 1, 0], 2),\n",
      " ([0, 1, 1], 6),\n",
      " ([1, 0, 0], 2),\n",
      " ([1, 0, 1], 6),\n",
      " ([1, 1, 0], 4),\n",
      " ([1, 1, 1], 8)]\n"
     ]
    }
   ],
   "source": [
    "from itertools import product\n",
    "from itertools import compress\n",
    "import pprint\n",
    "\n",
    "file = open(r'C:\\Users\\morph\\Desktop\\input(laba6).txt')\n",
    "lines = file.read().splitlines()\n",
    "file.close()\n",
    "\n",
    "weights = [list(map(int, lst)) for lst in list(map(lambda x: x.split(), lines))]\n",
    "number_count = weights[0][0]\n",
    "\n",
    "all_combinations = list(map(list, product(*[[0, 1] for _ in range(number_count)])))\n",
    "heap_weight = list(map(lambda x: sum(compress(weights[1], x)), all_combinations))\n",
    "\n",
    "#for num in range(len(all_combinations)):\n",
    "    #print(all_combinations[num], heap_weight[num])\n",
    "\n",
    "pprint.pprint(list(zip(all_combinations, heap_weight)))"
   ],
   "metadata": {
    "collapsed": false,
    "pycharm": {
     "name": "#%%\n"
    }
   }
  },
  {
   "cell_type": "code",
   "execution_count": 29,
   "outputs": [
    {
     "name": "stdout",
     "output_type": "stream",
     "text": [
      "[('', 0), ('6', 6), ('7', 7), ('8', 8), ('9', 9), ('10', 10), ('Валет', 2), ('Дама', 3), ('Король', 4), ('Туз', 11)]\n"
     ]
    }
   ],
   "source": [
    "import pprint\n",
    "\n",
    "\n",
    "#K = int(input('Введите номинал: '))\n",
    "k = 3\n",
    "\n",
    "cards = ['', '6', '7', '8', '9', '10', 'Валет', 'Дама', 'Король', 'Туз']\n",
    "value = [0, 6, 7, 8, 9, 10, 2, 3, 4, 11]\n",
    "cards_value = list(zip(cards, value))\n",
    "all_combinations = list(map(list, product(*[[0, 1, 2, 3, 4] for _ in range(k)])))\n",
    "#pprint.pprint(all_combinations)\n",
    "print(cards_value)"
   ],
   "metadata": {
    "collapsed": false,
    "pycharm": {
     "name": "#%%\n"
    }
   }
  },
  {
   "cell_type": "code",
   "execution_count": 19,
   "outputs": [
    {
     "ename": "TypeError",
     "evalue": "unsupported operand type(s) for @: 'list' and 'list'",
     "output_type": "error",
     "traceback": [
      "\u001B[1;31m---------------------------------------------------------------------------\u001B[0m",
      "\u001B[1;31mTypeError\u001B[0m                                 Traceback (most recent call last)",
      "\u001B[1;32m~\\AppData\\Local\\Temp\\ipykernel_7028\\1723924365.py\u001B[0m in \u001B[0;36m<module>\u001B[1;34m\u001B[0m\n\u001B[0;32m      5\u001B[0m \u001B[0mb\u001B[0m \u001B[1;33m=\u001B[0m \u001B[1;33m[\u001B[0m\u001B[1;36m4\u001B[0m\u001B[1;33m,\u001B[0m \u001B[1;36m5\u001B[0m\u001B[1;33m,\u001B[0m \u001B[1;36m6\u001B[0m\u001B[1;33m]\u001B[0m\u001B[1;33m\u001B[0m\u001B[1;33m\u001B[0m\u001B[0m\n\u001B[0;32m      6\u001B[0m \u001B[1;33m\u001B[0m\u001B[0m\n\u001B[1;32m----> 7\u001B[1;33m \u001B[0mprint\u001B[0m\u001B[1;33m(\u001B[0m\u001B[0ma\u001B[0m \u001B[1;33m@\u001B[0m \u001B[0mb\u001B[0m\u001B[1;33m)\u001B[0m\u001B[1;33m\u001B[0m\u001B[1;33m\u001B[0m\u001B[0m\n\u001B[0m",
      "\u001B[1;31mTypeError\u001B[0m: unsupported operand type(s) for @: 'list' and 'list'"
     ]
    }
   ],
   "source": [
    "from itertools import product\n",
    "from operator import mul\n",
    "\n",
    "a = [1, 2 ,3]\n",
    "b = [4, 5, 6]\n",
    "\n",
    "print(a @ b)"
   ],
   "metadata": {
    "collapsed": false,
    "pycharm": {
     "name": "#%%\n"
    }
   }
  },
  {
   "cell_type": "markdown",
   "source": [
    "## Задание 2.\n",
    "Решить методом полного p-ичного перебора следующие задачи, осуществляя ввод из файла input.txt и вывод в файл output.txt\n",
    "\n",
    "Будем считать, что скобочное выражение состоит только из круглых открывающихся и закрывающихся скобок. Примеры:(())()()()Скобочное выражение может быть правильным (см. примеры выше) и неправильным, например,)(()(()))())(Написать  программу, выводящую все правильные скобочные выражения данной длины N (N<=20) и подсчитывающей их количество. При N>6 результаты выводить в текстовый файл."
   ],
   "metadata": {
    "collapsed": false,
    "pycharm": {
     "name": "#%% md\n"
    }
   }
  },
  {
   "cell_type": "code",
   "execution_count": 10,
   "outputs": [],
   "source": [],
   "metadata": {
    "collapsed": false,
    "pycharm": {
     "name": "#%%\n"
    }
   }
  },
  {
   "cell_type": "markdown",
   "source": [
    "## Задание 3. Написать программу, реализующую решение задачи, рассмотренной в качестве примера на лекции\n",
    "а) задача о сдаче."
   ],
   "metadata": {
    "collapsed": false,
    "pycharm": {
     "name": "#%% md\n"
    }
   }
  },
  {
   "cell_type": "code",
   "execution_count": 10,
   "outputs": [],
   "source": [],
   "metadata": {
    "collapsed": false,
    "pycharm": {
     "name": "#%%\n"
    }
   }
  },
  {
   "cell_type": "markdown",
   "source": [
    "## Задание 4. Написать программу, реализующую решение задачи, рассмотренной в качестве примера на лекции:\n",
    "а)задача о лабиринте (требования к входным и выходным данным приведены ниже).\n",
    "Технические требования.\n",
    "Исходные данные хранятся в текстовом файле input.txt\n",
    "1-я строка –N и M, указанные через пробел;\n",
    "2-я строка –i0 и j0;\n",
    "3-я строка –i1 и j1;последующие N строк по M чисел–схема лабиринта"
   ],
   "metadata": {
    "collapsed": false,
    "pycharm": {
     "name": "#%% md\n"
    }
   }
  },
  {
   "cell_type": "code",
   "execution_count": 10,
   "outputs": [],
   "source": [],
   "metadata": {
    "collapsed": false,
    "pycharm": {
     "name": "#%%\n"
    }
   }
  }
 ],
 "metadata": {
  "kernelspec": {
   "display_name": "Python 3",
   "language": "python",
   "name": "python3"
  },
  "language_info": {
   "codemirror_mode": {
    "name": "ipython",
    "version": 2
   },
   "file_extension": ".py",
   "mimetype": "text/x-python",
   "name": "python",
   "nbconvert_exporter": "python",
   "pygments_lexer": "ipython2",
   "version": "2.7.6"
  }
 },
 "nbformat": 4,
 "nbformat_minor": 0
}
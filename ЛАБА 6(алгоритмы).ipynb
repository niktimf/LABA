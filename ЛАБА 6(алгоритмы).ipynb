{
 "cells": [
  {
   "cell_type": "markdown",
   "source": [
    "# Лабораторная работа 6. Методы"
   ],
   "metadata": {
    "collapsed": false,
    "pycharm": {
     "name": "#%% md\n"
    }
   }
  },
  {
   "cell_type": "markdown",
   "source": [
    "## Задание 1.\n",
    "Написать программу, реализующую решение задачи на полный перебор, рассмотренные в качестве примеров на лекции:\n",
    "а) задача о куче (только методом двоичного перебора);\n",
    "б) задача о куче с вводом данных из текстового файла. Формат файла: в первой строке записано количество элементов N, во второй –N целочисленных элементов через пробел.\n",
    "в) задача о картах."
   ],
   "metadata": {
    "collapsed": false,
    "pycharm": {
     "name": "#%% md\n"
    }
   }
  },
  {
   "cell_type": "code",
   "execution_count": 58,
   "outputs": [
    {
     "name": "stdout",
     "output_type": "stream",
     "text": [
      "[(0, 0, 0), (0, 0, 1), (0, 1, 0), (0, 1, 1), (1, 0, 0), (1, 0, 1), (1, 1, 0), (1, 1, 1)] 0\n",
      "(0, 0, 1) 3\n",
      "[(0, 0, 0), (0, 0, 1), (0, 1, 0), (0, 1, 1), (1, 0, 0), (1, 0, 1), (1, 1, 0), (1, 1, 1)] 0\n",
      "[(0, 0, 0), (0, 0, 1), (0, 1, 0), (0, 1, 1), (1, 0, 0), (1, 0, 1), (1, 1, 0), (1, 1, 1)] 0\n",
      "[(0, 0, 0), (0, 0, 1), (0, 1, 0), (0, 1, 1), (1, 0, 0), (1, 0, 1), (1, 1, 0), (1, 1, 1)] 0\n",
      "[(0, 0, 0), (0, 0, 1), (0, 1, 0), (0, 1, 1), (1, 0, 0), (1, 0, 1), (1, 1, 0), (1, 1, 1)] 0\n",
      "(1, 1, 0) 3\n",
      "[(0, 0, 0), (0, 0, 1), (0, 1, 0), (0, 1, 1), (1, 0, 0), (1, 0, 1), (1, 1, 0), (1, 1, 1)] 0\n"
     ]
    }
   ],
   "source": [
    "from itertools import product\n",
    "\n",
    "heap_weight1 = 3\n",
    "stone_weights1 = [1, 2, 3]\n",
    "\n",
    "all_combinations1 = list(product(*[[0, 1] for _ in range(heap_weight1)]))\n",
    "accumulated_heap1 = list(map(lambda x: sum(compress(stone_weights1, x)), all_combinations1))\n",
    "\n",
    "for num in range(len(all_combinations1)):\n",
    "    if accumulated_heap1[num] == heap_weight1:\n",
    "        print(all_combinations1[num], accumulated_heap1[num])\n",
    "    else:\n",
    "        min_diff = float('inf')\n",
    "        for n in stone_weights1:\n",
    "            diff = abs(heap_weight1 - n)\n",
    "            if diff < min_diff:\n",
    "                 min_diff = diff\n",
    "        print(all_combinations1, min_diff)"
   ],
   "metadata": {
    "collapsed": false,
    "pycharm": {
     "name": "#%%\n"
    }
   }
  },
  {
   "cell_type": "code",
   "execution_count": 57,
   "outputs": [
    {
     "ename": "SyntaxError",
     "evalue": "unexpected EOF while parsing (3821776519.py, line 28)",
     "output_type": "error",
     "traceback": [
      "\u001B[1;36m  File \u001B[1;32m\"C:\\Users\\morph\\AppData\\Local\\Temp\\ipykernel_63368\\3821776519.py\"\u001B[1;36m, line \u001B[1;32m28\u001B[0m\n\u001B[1;33m    \u001B[0m\n\u001B[1;37m    ^\u001B[0m\n\u001B[1;31mSyntaxError\u001B[0m\u001B[1;31m:\u001B[0m unexpected EOF while parsing\n"
     ]
    }
   ],
   "source": [
    "from itertools import product\n",
    "from itertools import compress\n",
    "\n",
    "import pprint\n",
    "\n",
    "file = open(r'C:\\Users\\morph\\Desktop\\input(laba6).txt')\n",
    "nested_list = [list(map(int, lst)) for lst in list(map(lambda x: x.split(), file.read().splitlines()))]\n",
    "print(nested_list)\n",
    "file.close()\n",
    "\n",
    "heap_weight2 = nested_list[0][0]\n",
    "\n",
    "\n",
    "all_combinations2 = list(map(list, product(*[[0, 1] for _ in range(heap_weight2)])))\n",
    "accumulated_heap2 = list(map(lambda x: sum(compress(nested_list[1], x)), all_combinations2))\n",
    "print(accumulated_heap2)\n",
    "pprint.pprint(list(zip(all_combinations2, accumulated_heap2)))\n",
    "\n",
    "counter = None\n",
    "for num in range(len(accumulated_heap2)):\n",
    "    if accumulated_heap2[num] == heap_weight2:\n",
    "        print(all_combinations2[num], accumulated_heap2[num])\n",
    "    else:\n",
    "        #min_diff = float('inf')\n",
    "        #diff = heap_weight2 - num\n",
    "        #if diff < min_diff:\n",
    "            #min_diff = diff\n"
   ],
   "metadata": {
    "collapsed": false,
    "pycharm": {
     "name": "#%%\n"
    }
   }
  },
  {
   "cell_type": "code",
   "execution_count": 36,
   "outputs": [
    {
     "name": "stdout",
     "output_type": "stream",
     "text": [
      "[('', 0), ('6', 6), ('7', 7), ('8', 8), ('9', 9), ('10', 10), ('Валет', 2), ('Дама', 3), ('Король', 4), ('Туз', 11)]\n"
     ]
    }
   ],
   "source": [
    "import pprint\n",
    "\n",
    "\n",
    "#K = int(input('Введите номинал: '))\n",
    "k = 3\n",
    "\n",
    "cards = ['', 'Шестерка', 'Семерка', 'Восьмерка', 'Девятка', 'Десятка', 'Валет', 'Дама', 'Король', 'Туз']\n",
    "value = [0, 6, 7, 8, 9, 10, 2, 3, 4, 11]\n",
    "cards_value = list(zip(cards, value))\n",
    "all_combinations = list(map(list, product(*[[0, 1, 2, 3, 4] for _ in range(k)])))\n",
    "#pprint.pprint(all_combinations)\n",
    "print(cards_value)"
   ],
   "metadata": {
    "collapsed": false,
    "pycharm": {
     "name": "#%%\n"
    }
   }
  },
  {
   "cell_type": "code",
   "execution_count": 39,
   "outputs": [
    {
     "name": "stdout",
     "output_type": "stream",
     "text": [
      "[1, 1]\n"
     ]
    }
   ],
   "source": [
    "from itertools import product\n",
    "from operator import mul\n",
    "\n",
    "a = [1, 2, 3, 3]\n",
    "b = 4\n",
    "\n",
    "weaf = map(lambda x: b - x, a)\n",
    "min_num = list(filter(lambda x: x == min(map(lambda y: b - y, a)), map(lambda x: b - x, a)))\n",
    "\n",
    "\n",
    "\n",
    "print(min_num)\n"
   ],
   "metadata": {
    "collapsed": false,
    "pycharm": {
     "name": "#%%\n"
    }
   }
  },
  {
   "cell_type": "code",
   "execution_count": 50,
   "outputs": [
    {
     "name": "stdout",
     "output_type": "stream",
     "text": [
      "[1, 1]\n"
     ]
    }
   ],
   "source": [
    "\n",
    "heap_weight2 = 3\n",
    "accumulated_heap2 = [0, 4, 2, 6, 2, 6, 4, 8]\n",
    "\n",
    "min_num = list(filter(lambda x: x == min(map(lambda y: abs(y - heap_weight2), accumulated_heap2)), map(lambda x: x - heap_weight2, accumulated_heap2)))\n",
    "\n",
    "print(min_num)"
   ],
   "metadata": {
    "collapsed": false,
    "pycharm": {
     "name": "#%%\n"
    }
   }
  },
  {
   "cell_type": "markdown",
   "source": [
    "## Задание 2.\n",
    "Решить методом полного p-ичного перебора следующие задачи, осуществляя ввод из файла input.txt и вывод в файл output.txt\n",
    "\n",
    "Будем считать, что скобочное выражение состоит только из круглых открывающихся и закрывающихся скобок. Примеры:(())()()()Скобочное выражение может быть правильным (см. примеры выше) и неправильным, например,)(()(()))())(Написать  программу, выводящую все правильные скобочные выражения данной длины N (N<=20) и подсчитывающей их количество. При N>6 результаты выводить в текстовый файл."
   ],
   "metadata": {
    "collapsed": false,
    "pycharm": {
     "name": "#%% md\n"
    }
   }
  },
  {
   "cell_type": "code",
   "execution_count": 3,
   "outputs": [
    {
     "ename": "TypeError",
     "evalue": "unsupported operand type(s) for +: 'int' and 'str'",
     "output_type": "error",
     "traceback": [
      "\u001B[1;31m---------------------------------------------------------------------------\u001B[0m",
      "\u001B[1;31mTypeError\u001B[0m                                 Traceback (most recent call last)",
      "\u001B[1;32m~\\AppData\\Local\\Temp\\ipykernel_106044\\1897086145.py\u001B[0m in \u001B[0;36m<module>\u001B[1;34m\u001B[0m\n\u001B[0;32m      6\u001B[0m \u001B[1;33m\u001B[0m\u001B[0m\n\u001B[0;32m      7\u001B[0m \u001B[0mall_combinations3\u001B[0m \u001B[1;33m=\u001B[0m \u001B[0mlist\u001B[0m\u001B[1;33m(\u001B[0m\u001B[0mproduct\u001B[0m\u001B[1;33m(\u001B[0m\u001B[1;33m*\u001B[0m\u001B[1;33m[\u001B[0m\u001B[1;33m[\u001B[0m\u001B[1;33m-\u001B[0m\u001B[1;36m1\u001B[0m\u001B[1;33m,\u001B[0m \u001B[1;36m1\u001B[0m\u001B[1;33m]\u001B[0m \u001B[1;32mfor\u001B[0m \u001B[0m_\u001B[0m \u001B[1;32min\u001B[0m \u001B[0mrange\u001B[0m\u001B[1;33m(\u001B[0m\u001B[0mN\u001B[0m\u001B[1;33m)\u001B[0m\u001B[1;33m]\u001B[0m\u001B[1;33m)\u001B[0m\u001B[1;33m)\u001B[0m\u001B[1;33m\u001B[0m\u001B[1;33m\u001B[0m\u001B[0m\n\u001B[1;32m----> 8\u001B[1;33m \u001B[0maccumulated_brackets\u001B[0m \u001B[1;33m=\u001B[0m \u001B[0mlist\u001B[0m\u001B[1;33m(\u001B[0m\u001B[0mmap\u001B[0m\u001B[1;33m(\u001B[0m\u001B[1;32mlambda\u001B[0m \u001B[0mx\u001B[0m\u001B[1;33m:\u001B[0m \u001B[0msum\u001B[0m\u001B[1;33m(\u001B[0m\u001B[0mcompress\u001B[0m\u001B[1;33m(\u001B[0m\u001B[0mround_brackets\u001B[0m\u001B[1;33m,\u001B[0m \u001B[0mx\u001B[0m\u001B[1;33m)\u001B[0m\u001B[1;33m)\u001B[0m\u001B[1;33m,\u001B[0m \u001B[0mall_combinations3\u001B[0m\u001B[1;33m)\u001B[0m\u001B[1;33m)\u001B[0m\u001B[1;33m\u001B[0m\u001B[1;33m\u001B[0m\u001B[0m\n\u001B[0m\u001B[0;32m      9\u001B[0m \u001B[1;33m\u001B[0m\u001B[0m\n\u001B[0;32m     10\u001B[0m \u001B[0mprint\u001B[0m\u001B[1;33m(\u001B[0m\u001B[0mlist\u001B[0m\u001B[1;33m(\u001B[0m\u001B[0mzip\u001B[0m\u001B[1;33m(\u001B[0m\u001B[0mall_combinations3\u001B[0m\u001B[1;33m,\u001B[0m \u001B[0maccumulated_brackets\u001B[0m\u001B[1;33m)\u001B[0m\u001B[1;33m)\u001B[0m\u001B[1;33m)\u001B[0m\u001B[1;33m\u001B[0m\u001B[1;33m\u001B[0m\u001B[0m\n",
      "\u001B[1;32m~\\AppData\\Local\\Temp\\ipykernel_106044\\1897086145.py\u001B[0m in \u001B[0;36m<lambda>\u001B[1;34m(x)\u001B[0m\n\u001B[0;32m      6\u001B[0m \u001B[1;33m\u001B[0m\u001B[0m\n\u001B[0;32m      7\u001B[0m \u001B[0mall_combinations3\u001B[0m \u001B[1;33m=\u001B[0m \u001B[0mlist\u001B[0m\u001B[1;33m(\u001B[0m\u001B[0mproduct\u001B[0m\u001B[1;33m(\u001B[0m\u001B[1;33m*\u001B[0m\u001B[1;33m[\u001B[0m\u001B[1;33m[\u001B[0m\u001B[1;33m-\u001B[0m\u001B[1;36m1\u001B[0m\u001B[1;33m,\u001B[0m \u001B[1;36m1\u001B[0m\u001B[1;33m]\u001B[0m \u001B[1;32mfor\u001B[0m \u001B[0m_\u001B[0m \u001B[1;32min\u001B[0m \u001B[0mrange\u001B[0m\u001B[1;33m(\u001B[0m\u001B[0mN\u001B[0m\u001B[1;33m)\u001B[0m\u001B[1;33m]\u001B[0m\u001B[1;33m)\u001B[0m\u001B[1;33m)\u001B[0m\u001B[1;33m\u001B[0m\u001B[1;33m\u001B[0m\u001B[0m\n\u001B[1;32m----> 8\u001B[1;33m \u001B[0maccumulated_brackets\u001B[0m \u001B[1;33m=\u001B[0m \u001B[0mlist\u001B[0m\u001B[1;33m(\u001B[0m\u001B[0mmap\u001B[0m\u001B[1;33m(\u001B[0m\u001B[1;32mlambda\u001B[0m \u001B[0mx\u001B[0m\u001B[1;33m:\u001B[0m \u001B[0msum\u001B[0m\u001B[1;33m(\u001B[0m\u001B[0mcompress\u001B[0m\u001B[1;33m(\u001B[0m\u001B[0mround_brackets\u001B[0m\u001B[1;33m,\u001B[0m \u001B[0mx\u001B[0m\u001B[1;33m)\u001B[0m\u001B[1;33m)\u001B[0m\u001B[1;33m,\u001B[0m \u001B[0mall_combinations3\u001B[0m\u001B[1;33m)\u001B[0m\u001B[1;33m)\u001B[0m\u001B[1;33m\u001B[0m\u001B[1;33m\u001B[0m\u001B[0m\n\u001B[0m\u001B[0;32m      9\u001B[0m \u001B[1;33m\u001B[0m\u001B[0m\n\u001B[0;32m     10\u001B[0m \u001B[0mprint\u001B[0m\u001B[1;33m(\u001B[0m\u001B[0mlist\u001B[0m\u001B[1;33m(\u001B[0m\u001B[0mzip\u001B[0m\u001B[1;33m(\u001B[0m\u001B[0mall_combinations3\u001B[0m\u001B[1;33m,\u001B[0m \u001B[0maccumulated_brackets\u001B[0m\u001B[1;33m)\u001B[0m\u001B[1;33m)\u001B[0m\u001B[1;33m)\u001B[0m\u001B[1;33m\u001B[0m\u001B[1;33m\u001B[0m\u001B[0m\n",
      "\u001B[1;31mTypeError\u001B[0m: unsupported operand type(s) for +: 'int' and 'str'"
     ]
    }
   ],
   "source": [
    "from itertools import product\n",
    "from itertools import compress\n",
    "\n",
    "N = int(input(\"Введите количество скобок: \"))\n",
    "round_brackets =['(', ')']\n",
    "\n",
    "all_combinations3 = list(product(*[[-1, 1] for _ in range(N)]))\n",
    "accumulated_brackets = list(map(lambda x: sum(compress(round_brackets, x)), all_combinations3))\n",
    "\n",
    "print(list(zip(all_combinations3, accumulated_brackets)))"
   ],
   "metadata": {
    "collapsed": false,
    "pycharm": {
     "name": "#%%\n"
    }
   }
  },
  {
   "cell_type": "code",
   "execution_count": 5,
   "outputs": [
    {
     "name": "stdout",
     "output_type": "stream",
     "text": [
      "(())\n",
      "()()\n",
      "2\n"
     ]
    }
   ],
   "source": [
    "def generate_balanced_brackets(n):\n",
    "    def generate_combinations(combination, open_count, close_count):\n",
    "        if open_count + close_count == 2 * n:\n",
    "            print(combination)\n",
    "            return 1\n",
    "        count = 0\n",
    "        if open_count < n:\n",
    "            count += generate_combinations(combination + \"(\", open_count + 1, close_count)\n",
    "        if close_count < open_count:\n",
    "            count += generate_combinations(combination + \")\", open_count, close_count + 1)\n",
    "        return count\n",
    "    return generate_combinations(\"\", 0, 0)\n",
    "\n",
    "print(generate_balanced_brackets(2))"
   ],
   "metadata": {
    "collapsed": false,
    "pycharm": {
     "name": "#%%\n"
    }
   }
  },
  {
   "cell_type": "markdown",
   "source": [
    "## Задание 3. Написать программу, реализующую решение задачи, рассмотренной в качестве примера на лекции\n",
    "а) задача о сдаче."
   ],
   "metadata": {
    "collapsed": false,
    "pycharm": {
     "name": "#%% md\n"
    }
   }
  },
  {
   "cell_type": "code",
   "execution_count": 41,
   "outputs": [
    {
     "name": "stdout",
     "output_type": "stream",
     "text": [
      "{2000: 1, 200: 1, 10: 4}\n"
     ]
    }
   ],
   "source": [
    "def get_change(amount, banknotes):\n",
    "    change = {}\n",
    "    for banknote in banknotes:\n",
    "        while amount >= banknote:       # пока сумма больше или равна банкнотам\n",
    "            if banknote not in change:  # если банкнот нет в сдаче\n",
    "                change[banknote] = 0    # добавляем банкноту в словарь как ключ\n",
    "            change[banknote] += 1       # увеличиваем значение на 1 у ключа\n",
    "            amount -= banknote          # вычитаем банкноту из суммы\n",
    "    return change\n",
    "\n",
    "print(get_change(2240, [5000, 2000, 1000, 500, 200, 100, 50, 10]))"
   ],
   "metadata": {
    "collapsed": false,
    "pycharm": {
     "name": "#%%\n"
    }
   }
  },
  {
   "cell_type": "markdown",
   "source": [
    "## Задание 4. Написать программу, реализующую решение задачи, рассмотренной в качестве примера на лекции:\n",
    "а)задача о лабиринте (требования к входным и выходным данным приведены ниже).\n",
    "Технические требования.\n",
    "Исходные данные хранятся в текстовом файле input.txt\n",
    "1-я строка –N и M, указанные через пробел;\n",
    "2-я строка –i0 и j0;\n",
    "3-я строка –i1 и j1;последующие N строк по M чисел–схема лабиринта"
   ],
   "metadata": {
    "collapsed": false,
    "pycharm": {
     "name": "#%% md\n"
    }
   }
  },
  {
   "cell_type": "code",
   "execution_count": null,
   "outputs": [],
   "source": [],
   "metadata": {
    "collapsed": false,
    "pycharm": {
     "name": "#%%\n"
    }
   }
  }
 ],
 "metadata": {
  "kernelspec": {
   "display_name": "Python 3",
   "language": "python",
   "name": "python3"
  },
  "language_info": {
   "codemirror_mode": {
    "name": "ipython",
    "version": 2
   },
   "file_extension": ".py",
   "mimetype": "text/x-python",
   "name": "python",
   "nbconvert_exporter": "python",
   "pygments_lexer": "ipython2",
   "version": "2.7.6"
  }
 },
 "nbformat": 4,
 "nbformat_minor": 0
}
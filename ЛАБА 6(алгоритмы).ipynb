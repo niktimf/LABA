{
 "cells": [
  {
   "cell_type": "markdown",
   "source": [
    "# Лабораторная работа 6. Методы"
   ],
   "metadata": {
    "collapsed": false,
    "pycharm": {
     "name": "#%% md\n"
    }
   }
  },
  {
   "cell_type": "markdown",
   "source": [
    "## Задание 1.\n",
    "Написать программу, реализующую решение задачи на полный перебор, рассмотренные в качестве примеров на лекции:\n",
    "а) задача о куче (только методом двоичного перебора);\n",
    "б) задача о куче с вводом данных из текстового файла. Формат файла: в первой строке записано количество элементов N, во второй –N целочисленных элементов через пробел.\n",
    "в) задача о картах."
   ],
   "metadata": {
    "collapsed": false,
    "pycharm": {
     "name": "#%% md\n"
    }
   }
  },
  {
   "cell_type": "code",
   "execution_count": 1,
   "outputs": [
    {
     "name": "stdout",
     "output_type": "stream",
     "text": [
      "[(0, 0, 0, 0),\n",
      " (0, 0, 0, 1),\n",
      " (0, 0, 1, 0),\n",
      " (0, 0, 1, 1),\n",
      " (0, 1, 0, 0),\n",
      " (0, 1, 0, 1),\n",
      " (0, 1, 1, 0),\n",
      " (0, 1, 1, 1)]\n"
     ]
    }
   ],
   "source": [
    "from itertools import product\n",
    "import pprint\n",
    "\n",
    "N = 3\n",
    "arr = list(product([0],*[[0,1] for _ in range(N)]))\n",
    "pprint.pprint(arr)"
   ],
   "metadata": {
    "collapsed": false,
    "pycharm": {
     "name": "#%%\n"
    }
   }
  },
  {
   "cell_type": "code",
   "execution_count": 47,
   "outputs": [
    {
     "name": "stdout",
     "output_type": "stream",
     "text": [
      "[[3], [2, 2, 4]]\n",
      "[0, 0, 0] 0\n",
      "[0, 0, 1] 4\n",
      "[0, 1, 0] 2\n",
      "[0, 1, 1] 6\n",
      "[1, 0, 0] 2\n",
      "[1, 0, 1] 6\n",
      "[1, 1, 0] 4\n",
      "[1, 1, 1] 8\n"
     ]
    }
   ],
   "source": [
    "from itertools import product\n",
    "from itertools import compress\n",
    "\n",
    "file = open(r'C:\\Users\\morph\\Desktop\\input(laba6).txt')\n",
    "lines = file.read().splitlines()\n",
    "file.close()\n",
    "weights = [list(map(int, lst)) for lst in list(map(lambda x: x.split(), lines))]\n",
    "number_count = weights[0][0]\n",
    "\n",
    "print(weights)\n",
    "\n",
    "all_combinations = list(map(list, product(*[[0,1] for _ in range(number_count)])))\n",
    "heap_weight = list(map(lambda x: sum(compress(weights[1], x)), all_combinations))\n",
    "for num in range(len(all_combinations)):\n",
    "    print(all_combinations[num], heap_weight[num])"
   ],
   "metadata": {
    "collapsed": false,
    "pycharm": {
     "name": "#%%\n"
    }
   }
  },
  {
   "cell_type": "code",
   "execution_count": null,
   "outputs": [],
   "source": [],
   "metadata": {
    "collapsed": false,
    "pycharm": {
     "name": "#%%\n"
    }
   }
  },
  {
   "cell_type": "markdown",
   "source": [
    "## Задание 2.\n",
    "Решить методом полного p-ичного перебора следующие задачи, осуществляя ввод из файла input.txt и вывод в файл output.txt\n",
    "\n",
    "Будем считать, что скобочное выражение состоит только из круглых открывающихся и закрывающихся скобок. Примеры:(())()()()Скобочное выражение может быть правильным (см. примеры выше) и неправильным, например,)(()(()))())(Написать  программу, выводящую все правильные скобочные выражения данной длины N (N<=20) и подсчитывающей их количество. При N>6 результаты выводить в текстовый файл."
   ],
   "metadata": {
    "collapsed": false,
    "pycharm": {
     "name": "#%% md\n"
    }
   }
  },
  {
   "cell_type": "code",
   "execution_count": null,
   "outputs": [],
   "source": [],
   "metadata": {
    "collapsed": false,
    "pycharm": {
     "name": "#%%\n"
    }
   }
  },
  {
   "cell_type": "markdown",
   "source": [
    "## Задание 3. Написать программу, реализующую решение задачи, рассмотренной в качестве примера на лекции\n",
    "а) задача о сдаче."
   ],
   "metadata": {
    "collapsed": false,
    "pycharm": {
     "name": "#%% md\n"
    }
   }
  },
  {
   "cell_type": "code",
   "execution_count": null,
   "outputs": [],
   "source": [],
   "metadata": {
    "collapsed": false,
    "pycharm": {
     "name": "#%%\n"
    }
   }
  },
  {
   "cell_type": "markdown",
   "source": [
    "## Задание 4. Написать программу, реализующую решение задачи, рассмотренной в качестве примера на лекции:\n",
    "а)задача о лабиринте (требования к входным и выходным данным приведены ниже).\n",
    "Технические требования.\n",
    "Исходные данные хранятся в текстовом файле input.txt\n",
    "1-я строка –N и M, указанные через пробел;\n",
    "2-я строка –i0 и j0;\n",
    "3-я строка –i1 и j1;последующие N строк по M чисел–схема лабиринта"
   ],
   "metadata": {
    "collapsed": false,
    "pycharm": {
     "name": "#%% md\n"
    }
   }
  },
  {
   "cell_type": "code",
   "execution_count": null,
   "outputs": [],
   "source": [],
   "metadata": {
    "collapsed": false,
    "pycharm": {
     "name": "#%%\n"
    }
   }
  }
 ],
 "metadata": {
  "kernelspec": {
   "display_name": "Python 3",
   "language": "python",
   "name": "python3"
  },
  "language_info": {
   "codemirror_mode": {
    "name": "ipython",
    "version": 2
   },
   "file_extension": ".py",
   "mimetype": "text/x-python",
   "name": "python",
   "nbconvert_exporter": "python",
   "pygments_lexer": "ipython2",
   "version": "2.7.6"
  }
 },
 "nbformat": 4,
 "nbformat_minor": 0
}
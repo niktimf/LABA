{
 "cells": [
  {
   "cell_type": "markdown",
   "source": [
    "# Лабораторная работа 6. Методы"
   ],
   "metadata": {
    "collapsed": false,
    "pycharm": {
     "name": "#%% md\n"
    }
   }
  },
  {
   "cell_type": "markdown",
   "source": [
    "## Задание 1.\n",
    "Написать программу, реализующую решение задачи на полный перебор, рассмотренные в качестве примеров на лекции:\n",
    "а) задача о куче (только методом двоичного перебора);\n",
    "б) задача о куче с вводом данных из текстового файла. Формат файла: в первой строке записано количество элементов N, во второй –N целочисленных элементов через пробел.\n",
    "в) задача о картах."
   ],
   "metadata": {
    "collapsed": false,
    "pycharm": {
     "name": "#%% md\n"
    }
   }
  },
  {
   "cell_type": "code",
   "execution_count": 26,
   "outputs": [
    {
     "ename": "IndexError",
     "evalue": "list index out of range",
     "output_type": "error",
     "traceback": [
      "\u001B[1;31m---------------------------------------------------------------------------\u001B[0m",
      "\u001B[1;31mIndexError\u001B[0m                                Traceback (most recent call last)",
      "\u001B[1;32m~\\AppData\\Local\\Temp\\ipykernel_21468\\3946167630.py\u001B[0m in \u001B[0;36m<module>\u001B[1;34m\u001B[0m\n\u001B[0;32m      8\u001B[0m                 \u001B[0mi\u001B[0m \u001B[1;33m-=\u001B[0m \u001B[1;36m1\u001B[0m\u001B[1;33m\u001B[0m\u001B[1;33m\u001B[0m\u001B[0m\n\u001B[0;32m      9\u001B[0m         \u001B[0mA\u001B[0m\u001B[1;33m[\u001B[0m\u001B[0mi\u001B[0m\u001B[1;33m]\u001B[0m \u001B[1;33m=\u001B[0m \u001B[1;36m1\u001B[0m\u001B[1;33m\u001B[0m\u001B[1;33m\u001B[0m\u001B[0m\n\u001B[1;32m---> 10\u001B[1;33m \u001B[1;32mwhile\u001B[0m \u001B[0mA\u001B[0m\u001B[1;33m[\u001B[0m\u001B[1;36m0\u001B[0m\u001B[1;33m]\u001B[0m \u001B[1;33m==\u001B[0m \u001B[1;36m0\u001B[0m\u001B[1;33m:\u001B[0m\u001B[1;33m\u001B[0m\u001B[1;33m\u001B[0m\u001B[0m\n\u001B[0m\u001B[0;32m     11\u001B[0m         \u001B[0mprint\u001B[0m\u001B[1;33m(\u001B[0m\u001B[0mA\u001B[0m\u001B[1;33m)\u001B[0m\u001B[1;33m\u001B[0m\u001B[1;33m\u001B[0m\u001B[0m\n\u001B[0;32m     12\u001B[0m         \u001B[0mnext\u001B[0m\u001B[1;33m(\u001B[0m\u001B[1;33m)\u001B[0m\u001B[1;33m\u001B[0m\u001B[1;33m\u001B[0m\u001B[0m\n",
      "\u001B[1;31mIndexError\u001B[0m: list index out of range"
     ]
    }
   ],
   "source": [
    "from itertools import product\n",
    "import pprint\n",
    "\n",
    "N = 3\n",
    "arr = list(product([0],*[[0,1] for _ in range(N)]))\n",
    "pprint.pprint(arr)"
   ],
   "metadata": {
    "collapsed": false,
    "pycharm": {
     "name": "#%%\n"
    }
   }
  },
  {
   "cell_type": "code",
   "execution_count": 53,
   "outputs": [
    {
     "name": "stdout",
     "output_type": "stream",
     "text": [
      "[[0, 0, 0], [0, 0, 1], [0, 1, 0], [0, 1, 1], [1, 0, 0], [1, 0, 1], [1, 1, 0], [1, 1, 1]]\n",
      "[2, 7, 8]\n"
     ]
    }
   ],
   "source": [
    "from itertools import product\n",
    "from itertools import compress\n",
    "import pprint\n",
    "\n",
    "N = 3\n",
    "a = [2, 7, 8]\n",
    "#aa = ''.join(map(str, a))\n",
    "arr = list(map(list, product(*[[0,1] for _ in range(N)])))\n",
    "print(arr)\n",
    "ae = list(compress(a, arr))\n",
    "[for mask in arr]\n",
    "print(ae)"
   ],
   "metadata": {
    "collapsed": false,
    "pycharm": {
     "name": "#%%\n"
    }
   }
  },
  {
   "cell_type": "code",
   "execution_count": null,
   "outputs": [],
   "source": [],
   "metadata": {
    "collapsed": false,
    "pycharm": {
     "name": "#%%\n"
    }
   }
  },
  {
   "cell_type": "markdown",
   "source": [
    "## Задание 2.\n",
    "Решить методом полного p-ичного перебора следующие задачи, осуществляя ввод из файла input.txt и вывод в файл output.txt\n",
    "\n",
    "Будем считать, что скобочное выражение состоит только из круглых открывающихся и закрывающихся скобок. Примеры:(())()()()Скобочное выражение может быть правильным (см. примеры выше) и неправильным, например,)(()(()))())(Написать  программу, выводящую все правильные скобочные выражения данной длины N (N<=20) и подсчитывающей их количество. При N>6 результаты выводить в текстовый файл."
   ],
   "metadata": {
    "collapsed": false,
    "pycharm": {
     "name": "#%% md\n"
    }
   }
  },
  {
   "cell_type": "code",
   "execution_count": null,
   "outputs": [],
   "source": [],
   "metadata": {
    "collapsed": false,
    "pycharm": {
     "name": "#%%\n"
    }
   }
  },
  {
   "cell_type": "markdown",
   "source": [
    "## Задание 3. Написать программу, реализующую решение задачи, рассмотренной в качестве примера на лекции\n",
    "а) задача о сдаче."
   ],
   "metadata": {
    "collapsed": false,
    "pycharm": {
     "name": "#%% md\n"
    }
   }
  },
  {
   "cell_type": "code",
   "execution_count": null,
   "outputs": [],
   "source": [],
   "metadata": {
    "collapsed": false,
    "pycharm": {
     "name": "#%%\n"
    }
   }
  },
  {
   "cell_type": "markdown",
   "source": [
    "## Задание 4. Написать программу, реализующую решение задачи, рассмотренной в качестве примера на лекции:\n",
    "а)задача о лабиринте (требования к входным и выходным данным приведены ниже).\n",
    "Технические требования.\n",
    "Исходные данные хранятся в текстовом файле input.txt\n",
    "1-я строка –N и M, указанные через пробел;\n",
    "2-я строка –i0 и j0;\n",
    "3-я строка –i1 и j1;последующие N строк по M чисел–схема лабиринта"
   ],
   "metadata": {
    "collapsed": false,
    "pycharm": {
     "name": "#%% md\n"
    }
   }
  },
  {
   "cell_type": "code",
   "execution_count": null,
   "outputs": [],
   "source": [],
   "metadata": {
    "collapsed": false,
    "pycharm": {
     "name": "#%%\n"
    }
   }
  }
 ],
 "metadata": {
  "kernelspec": {
   "display_name": "Python 3",
   "language": "python",
   "name": "python3"
  },
  "language_info": {
   "codemirror_mode": {
    "name": "ipython",
    "version": 2
   },
   "file_extension": ".py",
   "mimetype": "text/x-python",
   "name": "python",
   "nbconvert_exporter": "python",
   "pygments_lexer": "ipython2",
   "version": "2.7.6"
  }
 },
 "nbformat": 4,
 "nbformat_minor": 0
}
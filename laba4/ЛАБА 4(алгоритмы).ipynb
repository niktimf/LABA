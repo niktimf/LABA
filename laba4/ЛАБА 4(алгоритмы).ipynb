{
 "cells": [
  {
   "cell_type": "markdown",
   "source": [
    "# Лабортаторная работа 4. Графы"
   ],
   "metadata": {
    "collapsed": false,
    "pycharm": {
     "name": "#%% md\n"
    }
   }
  },
  {
   "cell_type": "markdown",
   "source": [
    "## Задание 4. Реализовать в виде программ алгоритмы, рассмотренные на лекции:а)задача Прима-Крускала;б)найти число различных путей из одной данной вершины в другую; решить задачу, используя списки смежности.Граф задан списком ребер, хранящемся в файле."
   ],
   "metadata": {
    "collapsed": false,
    "pycharm": {
     "name": "#%% md\n"
    }
   }
  },
  {
   "cell_type": "code",
   "execution_count": 10,
   "outputs": [
    {
     "name": "stdout",
     "output_type": "stream",
     "text": [
      "Исходный граф: ['6', '9', '1 2 2', '1 4 7', '2 3 4', '3 1 2', '3 4 13', '4 5 1', '5 3 12', '5 6 5', '6 3 2']\n",
      "[[0, 1, 0, 1, 0, 0],\n",
      " [0, 0, 1, 0, 0, 0],\n",
      " [1, 0, 0, 1, 0, 0],\n",
      " [0, 0, 0, 0, 1, 0],\n",
      " [0, 0, 1, 0, 0, 1],\n",
      " [0, 0, 1, 0, 0, 0]]\n",
      "[[4, 5, 1], [1, 2, 2], [3, 1, 2], [6, 3, 2], [5, 6, 5]]\n",
      "Количество путей из данной вершины: 0\n"
     ]
    }
   ],
   "source": [
    "import typing as tp\n",
    "import pprint\n",
    "\n",
    "with open(r'input4.txt') as file:\n",
    "\tgraph4 = file.read().splitlines()\n",
    "print(f'Исходный граф: {graph4}')\n",
    "\n",
    "\n",
    "def get_adjacency_matrix_(input_list: tp.List[str]) -> tp.List[list]:\n",
    "\t\"\"\" Функция, формирующая матрицу весов \"\"\"\n",
    "\tsplitted_list = list(map(lambda x: x.split(), input_list))\n",
    "\tnum_nested_list = [list(map(int, num)) for num in splitted_list]\n",
    "\tfiltered_list = list(filter(lambda x: len(x) > 1, num_nested_list))\n",
    "\tzeros_nested_list = [[0] * num_nested_list[0][0] for _ in range(num_nested_list[0][0])]\n",
    "\tfor edge in filtered_list:\n",
    "\t\trow = edge[0]\n",
    "\t\tcol = edge[1]\n",
    "\t\tzeros_nested_list[row - 1][col - 1] = 1\n",
    "\treturn zeros_nested_list\n",
    "\n",
    "\n",
    "adjacency_matrix = get_adjacency_matrix_(graph4)\n",
    "pprint.pprint(adjacency_matrix)\n",
    "\n",
    "\n",
    "def kruskal_algorithm(input_list: tp.List[str]) -> tp.List[list]:\n",
    "\t\"\"\" Функция, реализующая алгоритм Краскала \"\"\"\n",
    "\tsplitted_list = list(map(lambda x: x.split(), input_list))\n",
    "\tfiltered_list = list(filter(lambda x: len(x) > 1, splitted_list))\n",
    "\tsorted_list = sorted([list(map(int, num)) for num in filtered_list], key=lambda x: x[2])\n",
    "\tconnected_nodes_list = set()   \t\t\t\t\t\t\t\t\t\t\t\t\t\t\t# список соединенных вершин\n",
    "\tisolated_nodes_dict = {}      \t\t\t\t\t\t\t\t\t\t\t\t\t\t\t# словарь изолированных групп вершин\n",
    "\tedges_list = []\t\t\t\t\t\t\t\t\t\t\t\t\t\t\t\t\t\t\t# список ребер остова\n",
    "\tfor r in sorted_list:\n",
    "\t\tif r[0] not in connected_nodes_list or r[1] not in connected_nodes_list:  \t\t\t# проверка для исключения циклов в остове\n",
    "\t\t\tif r[0] not in connected_nodes_list and r[1] not in connected_nodes_list:\t \t# если обе вершины не соединены, то\n",
    "\t\t\t\tisolated_nodes_dict[r[0]] = [r[0], r[1]]          \t\t\t\t\t\t\t# формируем в словаре ключ с номерами вершин\n",
    "\t\t\t\tisolated_nodes_dict[r[1]] = isolated_nodes_dict[r[0]]               \t\t# и связываем их с одним и тем же списком вершин\n",
    "\t\t\telse:                           \t\t\t\t\t\t\t\t\t\t\t\t# иначе\n",
    "\t\t\t\tif not isolated_nodes_dict.get(r[0]):             \t\t\t\t\t\t\t# если в словаре нет первой вершины, то\n",
    "\t\t\t\t\tisolated_nodes_dict[r[1]].append(r[0])        \t\t\t\t\t\t\t# добавляем в список первую вершину\n",
    "\t\t\t\t\tisolated_nodes_dict[r[0]] = isolated_nodes_dict[r[1]]           \t\t# и добавляем ключ с номером первой вершины\n",
    "\t\t\t\telse:\n",
    "\t\t\t\t\tisolated_nodes_dict[r[0]].append(r[1])        \t\t\t\t\t\t\t# иначе, все то же самое делаем со второй вершиной\n",
    "\t\t\t\t\tisolated_nodes_dict[r[1]] = isolated_nodes_dict[r[0]]\n",
    "\t\t\tedges_list.append(r)             \t\t\t\t\t\t\t\t\t\t\t\t# добавляем ребро в остов\n",
    "\t\t\tconnected_nodes_list.add(r[0])             \t\t\t\t\t\t\t\t\t\t# добавляем вершины в множество\n",
    "\t\t\tconnected_nodes_list.add(r[1])\n",
    "\tfor r in sorted_list:    \t\t\t\t\t\t\t\t\t\t\t\t\t\t\t\t# проходим по ребрам второй раз и объединяем разрозненные группы вершин\n",
    "\t\tif r[1] not in isolated_nodes_dict[r[0]]:     \t\t\t\t\t\t\t\t\t\t# если вершины принадлежат разным группам, то объединяем\n",
    "\t\t\tedges_list.append(r)             \t\t\t\t\t\t\t\t\t\t\t\t# добавляем ребро в остов\n",
    "\t\t\tgr1 = isolated_nodes_dict[r[0]]\n",
    "\t\t\tisolated_nodes_dict[r[0]] += isolated_nodes_dict[r[1]]      \t\t\t\t\t# объединяем списки двух групп вершин\n",
    "\t\t\tisolated_nodes_dict[r[1]] += gr1\n",
    "\treturn edges_list\n",
    "\n",
    "\n",
    "print(kruskal_algorithm(graph4))\n",
    "\n",
    "\n",
    "def get_path_count(input_list: tp.List[str], start_node, end_node, visited):\n",
    "\t\"\"\" Количество путей \"\"\"\n",
    "\tif start_node == end_node:\n",
    "\t\treturn 1\n",
    "\tvisited.append(start_node)\n",
    "\tcount = 0\n",
    "\tfor v in input_list[start_node]:\n",
    "\t\tif not v in visited:\n",
    "\t\t\tcount += get_path_count(input_list, v, end_node, visited)\n",
    "\tvisited.pop()\n",
    "\treturn count\n",
    "\n",
    "\n",
    "print(f'Количество путей из данной вершины: {get_path_count(adjacency_matrix, 1, 3, [])}')"
   ],
   "metadata": {
    "collapsed": false,
    "pycharm": {
     "name": "#%%\n"
    }
   }
  },
  {
   "cell_type": "markdown",
   "source": [
    "## Задание 5 (выполняется по вариантам). Составить  программы, решающие следующие задачи. Входные данные находятся в файле input.txt. Для каждой задачи для отчета по работе изобразить на бумаге/в файле отчета граф, соответствующий данным в файле input.txt."
   ],
   "metadata": {
    "collapsed": false,
    "pycharm": {
     "name": "#%% md\n"
    }
   }
  },
  {
   "cell_type": "markdown",
   "source": [
    "### 1. Туристическое агентство организует путешествия по городам мира. Прямые авиарейсы существуют только между некоторыми из них, причем необязательно в обоих направлениях. Требуется найти все возможные маршруты, начинающиеся в городе А и заканчивающиеся в городе В, что туристу, купившему путевку, не придется посещать один и тот же город дважды,а также подсчитать количество таких маршрутов. Технические требования:Количество городов N <= 10 Формат файла INPUT.TXT:1-я строка –количество городов; 2-я –названия городов А и В через  пробел; последующие строки содержат названия пар городов X и Y через пробел, для которых имеется авиарейс из X в Y."
   ],
   "metadata": {
    "collapsed": false,
    "pycharm": {
     "name": "#%% md\n"
    }
   }
  },
  {
   "cell_type": "code",
   "execution_count": 45,
   "outputs": [
    {
     "name": "stdout",
     "output_type": "stream",
     "text": [
      "Исходные данные: ['4', 'a b c d', 'a b', 'b c', 'c d', 'd a']\n",
      "{'a': ['b'], 'b': ['c'], 'c': ['d'], 'd': ['a']}\n",
      "a b c\n",
      "None\n"
     ]
    }
   ],
   "source": [
    "with open(r'input5.txt') as file5:\n",
    "\tgraph5 = file5.read().splitlines()\n",
    "print(f'Исходные данные: {graph5}')\n",
    "\n",
    "d = {}\t\t\t\t\t\t\t\t\t\t\t\t\t# создаем пустой словарь\n",
    "for name in graph5[1].split():\t\t\t\t\t\t\t# разбиваем 2 строку на подстроки так как там все города по условию\n",
    "\td[name] = []\t\t\t\t\t\t\t\t\t\t# создаем по ключам пустые списки\n",
    "for i in range(2, len(graph5)):\n",
    "\ta, b = graph5[i].split()\t\t\t\t\t\t\t# разбиваем 2 города\n",
    "\td[a].append(b)\t\t\t\t\t\t\t\t\t\t# добавляем 1 город в ключ другой в значение\n",
    "print(d)\n",
    "\n",
    "def get_possible_routes(start, end, visited = []):\t\t# алгоритм похож на модифицированный поиск в глубину\n",
    "\tn_visit = visited.copy()\n",
    "\tn_visit.append(start)\n",
    "\tif start == end:\n",
    "\t\tprint(*n_visit)\n",
    "\t\treturn\n",
    "\tfor city in d[start]:\n",
    "\t\tif city not in n_visit:\n",
    "\t\t\tget_possible_routes(city, end, n_visit)\n",
    "print(get_possible_routes('a', 'c'))"
   ],
   "metadata": {
    "collapsed": false,
    "pycharm": {
     "name": "#%%\n"
    }
   }
  }
 ],
 "metadata": {
  "kernelspec": {
   "display_name": "Python 3",
   "language": "python",
   "name": "python3"
  },
  "language_info": {
   "codemirror_mode": {
    "name": "ipython",
    "version": 2
   },
   "file_extension": ".py",
   "mimetype": "text/x-python",
   "name": "python",
   "nbconvert_exporter": "python",
   "pygments_lexer": "ipython2",
   "version": "2.7.6"
  }
 },
 "nbformat": 4,
 "nbformat_minor": 0
}
{
 "cells": [
  {
   "cell_type": "code",
   "execution_count": 28,
   "metadata": {
    "collapsed": true,
    "pycharm": {
     "name": "#%%\n"
    }
   },
   "outputs": [],
   "source": [
    "matrix_a = [[1, 2, 3, 5, 1],\n",
    "            [4, 5, 6, 3, 3],\n",
    "            [7, 8, 9, 9, 2],\n",
    "            [4, 2, 6, 1, 4],\n",
    "            [4, 2, 6, 1, 9]]\n",
    "\n",
    "matrix_b = [[2, 3, 4, 5, 1],\n",
    "            [4, 5, 6, 0, 3],\n",
    "            [5, 2, 0, 9, 2],\n",
    "            [7, 2, 6, 7, 4],\n",
    "            [8, 1, 3, 0, 2]]"
   ]
  },
  {
   "cell_type": "code",
   "execution_count": 30,
   "outputs": [
    {
     "name": "stdout",
     "output_type": "stream",
     "text": [
      "[[4, 4, 5, 4, 4],\n",
      " [6, 6, 6, 6, 3],\n",
      " [4, 2, 6, 5, 4],\n",
      " [6, 6, 6, 6, 4],\n",
      " [3, 3, 3, 5, 2]]\n"
     ]
    }
   ],
   "source": [
    "import pprint\n",
    "import typing as tp\n",
    "\n",
    "\n",
    "def mult_matrix_min_max(matrix_A: tp.List[tp.List[float]], matrix_B: tp.List[tp.List[float]]) ->  tp.List[tp.List[float]]:\n",
    "    \"\"\" Умножение матриц по методу min max \"\"\"\n",
    "    return [[max(min(x, y) for x, y in zip(m1_r, m2_c)) for m2_c in zip(*matrix_A)] for m1_r in matrix_B]\n",
    "\n",
    "\n",
    "pprint.pprint(mult_matrix_min_max(matrix_a, matrix_b))"
   ],
   "metadata": {
    "collapsed": false,
    "pycharm": {
     "name": "#%%\n"
    }
   }
  },
  {
   "cell_type": "code",
   "execution_count": null,
   "outputs": [],
   "source": [],
   "metadata": {
    "collapsed": false,
    "pycharm": {
     "name": "#%%\n"
    }
   }
  }
 ],
 "metadata": {
  "kernelspec": {
   "display_name": "Python 3",
   "language": "python",
   "name": "python3"
  },
  "language_info": {
   "codemirror_mode": {
    "name": "ipython",
    "version": 2
   },
   "file_extension": ".py",
   "mimetype": "text/x-python",
   "name": "python",
   "nbconvert_exporter": "python",
   "pygments_lexer": "ipython2",
   "version": "2.7.6"
  }
 },
 "nbformat": 4,
 "nbformat_minor": 0
}
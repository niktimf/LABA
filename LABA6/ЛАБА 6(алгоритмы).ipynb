{
 "cells": [
  {
   "cell_type": "markdown",
   "source": [
    "# Лабораторная работа 6. Методы"
   ],
   "metadata": {
    "collapsed": false,
    "pycharm": {
     "name": "#%% md\n"
    }
   }
  },
  {
   "cell_type": "markdown",
   "source": [
    "## Задание 1.\n",
    "Написать программу, реализующую решение задачи на полный перебор, рассмотренные в качестве примеров на лекции:\n",
    "а) задача о куче (только методом двоичного перебора);\n",
    "б) задача о куче с вводом данных из текстового файла. Формат файла: в первой строке записано количество элементов N, во второй –N целочисленных элементов через пробел.\n",
    "в) задача о картах."
   ],
   "metadata": {
    "collapsed": false,
    "pycharm": {
     "name": "#%% md\n"
    }
   }
  },
  {
   "cell_type": "code",
   "execution_count": 39,
   "outputs": [
    {
     "name": "stdout",
     "output_type": "stream",
     "text": [
      "2 5 \n"
     ]
    }
   ],
   "source": [
    "def next():\n",
    "    global A\n",
    "    i = len(A) - 1\n",
    "    while A[i] == 1:\n",
    "        A[i] = 0\n",
    "        i -= 1\n",
    "    A[i] = 1\n",
    "\n",
    "N = 4\n",
    "A = [0] * (N + 1)\n",
    "P = [0, 2, 4, 5, 9]\n",
    "W = 8\n",
    "Ok = []\n",
    "min_ = W\n",
    "while A[0] == 0:\n",
    "    sum_ = 0\n",
    "    for i in range(1, N+1):\n",
    "        sum_ += A[i] * P[i]\n",
    "    if sum_ <= W and W - sum_ <= min_:\n",
    "        min_ = W - sum_\n",
    "        Ok = A[:]\n",
    "    next()\n",
    "for i in range(1, N+1):\n",
    "    if Ok[i] == 1:\n",
    "        print(P[i], end=' ')\n",
    "print()"
   ],
   "metadata": {
    "collapsed": false,
    "pycharm": {
     "name": "#%%\n"
    }
   }
  },
  {
   "cell_type": "code",
   "execution_count": 6,
   "outputs": [
    {
     "name": "stdout",
     "output_type": "stream",
     "text": [
      "2 2 4 \n"
     ]
    }
   ],
   "source": [
    "def next():\n",
    "    global A\n",
    "    i = len(A) - 1\n",
    "    while A[i] == 1:\n",
    "        A[i] = 0\n",
    "        i -= 1\n",
    "    A[i] = 1\n",
    "\n",
    "with open(r'input1(laba6).txt') as file:\n",
    "    N = int(file.readline())\n",
    "    P = list(map(int, file.readline().split()))\n",
    "P.insert(0, 0)\n",
    "A = [0] * (N + 1)\n",
    "W = 8\n",
    "Ok = []\n",
    "min_ = W\n",
    "while A[0] == 0:\n",
    "     sum_ = 0\n",
    "     for i in range(1, N+1):\n",
    "         sum_ += A[i] * P[i]\n",
    "     if sum_ <= W and W - sum_ <= min_:\n",
    "         min_ = W - sum_\n",
    "         Ok = A[:]\n",
    "     next()\n",
    "for i in range(1, N+1):\n",
    "     if Ok[i] == 1:\n",
    "         print(P[i], end=' ')\n",
    "print()"
   ],
   "metadata": {
    "collapsed": false,
    "pycharm": {
     "name": "#%%\n"
    }
   }
  },
  {
   "cell_type": "code",
   "execution_count": 44,
   "outputs": [
    {
     "name": "stdout",
     "output_type": "stream",
     "text": [
      "Дама-2 Король-1 Tуз-1 \n",
      "Дама-3 Король-3 \n",
      "Валет-1 Король-2 Tуз-1 \n",
      "Валет-1 Дама-1 Король-4 \n",
      "Валет-2 Дама-2 Tуз-1 \n",
      "Валет-2 Дама-3 Король-2 \n",
      "Валет-3 Король-1 Tуз-1 \n",
      "Валет-3 Дама-1 Король-3 \n",
      "Валет-4 Дама-3 Король-1 \n",
      "10-1 Tуз-1 \n",
      "10-1 Дама-1 Король-2 \n",
      "10-1 Валет-1 Дама-3 \n",
      "10-1 Валет-2 Дама-1 Король-1 \n",
      "10-1 Валет-4 Дама-1 \n",
      "9-1 Король-3 \n",
      "9-1 Дама-4 \n",
      "9-1 Валет-1 Дама-2 Король-1 \n",
      "9-1 Валет-2 Король-2 \n",
      "9-1 Валет-3 Дама-2 \n",
      "9-1 Валет-4 Король-1 \n",
      "9-1 10-1 Валет-1 \n",
      "9-2 Дама-1 \n",
      "8-1 Дама-3 Король-1 \n",
      "8-1 Валет-1 Tуз-1 \n",
      "8-1 Валет-1 Дама-1 Король-2 \n",
      "8-1 Валет-2 Дама-3 \n",
      "8-1 Валет-3 Дама-1 Король-1 \n",
      "8-1 10-1 Дама-1 \n",
      "8-1 9-1 Король-1 \n",
      "8-1 9-1 Валет-2 \n",
      "8-2 Валет-1 Дама-1 \n",
      "7-1 Дама-1 Tуз-1 \n",
      "7-1 Дама-2 Король-2 \n",
      "7-1 Валет-1 Король-3 \n",
      "7-1 Валет-1 Дама-4 \n",
      "7-1 Валет-2 Дама-2 Король-1 \n",
      "7-1 Валет-3 Король-2 \n",
      "7-1 Валет-4 Дама-2 \n",
      "7-1 10-1 Король-1 \n",
      "7-1 10-1 Валет-2 \n",
      "7-1 9-1 Валет-1 Дама-1 \n",
      "7-1 8-1 Дама-2 \n",
      "7-1 8-1 Валет-1 Король-1 \n",
      "7-1 8-1 Валет-3 \n",
      "7-2 Дама-1 Король-1 \n",
      "7-2 Валет-2 Дама-1 \n",
      "7-3 \n",
      "6-1 Король-1 Tуз-1 \n",
      "6-1 Дама-1 Король-3 \n",
      "6-1 Валет-1 Дама-3 Король-1 \n",
      "6-1 Валет-2 Tуз-1 \n",
      "6-1 Валет-2 Дама-1 Король-2 \n",
      "6-1 Валет-3 Дама-3 \n",
      "6-1 Валет-4 Дама-1 Король-1 \n",
      "6-1 10-1 Валет-1 Дама-1 \n",
      "6-1 9-1 Дама-2 \n",
      "6-1 9-1 Валет-1 Король-1 \n",
      "6-1 9-1 Валет-3 \n",
      "6-1 8-1 Дама-1 Король-1 \n",
      "6-1 8-1 Валет-2 Дама-1 \n",
      "6-1 7-1 Король-2 \n",
      "6-1 7-1 Валет-1 Дама-2 \n",
      "6-1 7-1 Валет-2 Король-1 \n",
      "6-1 7-1 Валет-4 \n",
      "6-1 7-1 8-1 \n",
      "6-2 Дама-3 \n",
      "6-2 Валет-1 Дама-1 Король-1 \n",
      "6-2 Валет-3 Дама-1 \n",
      "6-2 9-1 \n",
      "6-2 7-1 Валет-1 \n",
      "6-3 Дама-1 \n"
     ]
    }
   ],
   "source": [
    "def next():\n",
    "     global A\n",
    "     i = len(A) - 1\n",
    "     while A[i] == 4:\n",
    "         A[i] = 0\n",
    "         i -= 1\n",
    "     A[i] += 1\n",
    "\n",
    "\n",
    "N = 9\n",
    "A = [0] * (N + 1)\n",
    "cards = ['', '6', '7', '8', '9', '10', 'Валет', 'Дама', 'Король', 'Tуз']\n",
    "nom = [0, 6, 7, 8, 9, 10, 2, 3, 4, 11]\n",
    "K = 21\n",
    "while A[0] == 0:\n",
    "    sum_ = 0\n",
    "    for i in range(1, N+1):\n",
    "         sum_ += A[i] * nom[i]\n",
    "    if sum_ == K:\n",
    "        for j in range(1, N+1):\n",
    "            if A[j] > 0:\n",
    "                print(f'{cards[j]}-{A[j]}', end=' ')\n",
    "        print()\n",
    "    next()"
   ],
   "metadata": {
    "collapsed": false,
    "pycharm": {
     "name": "#%%\n"
    }
   }
  },
  {
   "cell_type": "markdown",
   "source": [
    "## Задание 2.\n",
    "Решить методом полного p-ичного перебора следующие задачи, осуществляя ввод из файла input.txt и вывод в файл output.txt\n",
    "\n",
    "Будем считать, что скобочное выражение состоит только из круглых открывающихся и закрывающихся скобок. Примеры:(())()()()Скобочное выражение может быть правильным (см. примеры выше) и неправильным, например,)(()(()))())(Написать  программу, выводящую все правильные скобочные выражения данной длины N (N<=20) и подсчитывающей их количество. При N>6 результаты выводить в текстовый файл."
   ],
   "metadata": {
    "collapsed": false,
    "pycharm": {
     "name": "#%% md\n"
    }
   }
  },
  {
   "cell_type": "code",
   "execution_count": 2,
   "outputs": [
    {
     "name": "stdout",
     "output_type": "stream",
     "text": [
      "[(0, 0, 0, 0),\n",
      " (0, 0, 0, 1),\n",
      " (0, 0, 1, 0),\n",
      " (0, 0, 1, 1),\n",
      " (0, 1, 0, 0),\n",
      " (0, 1, 0, 1),\n",
      " (0, 1, 1, 0),\n",
      " (0, 1, 1, 1),\n",
      " (1, 0, 0, 0),\n",
      " (1, 0, 0, 1),\n",
      " (1, 0, 1, 0),\n",
      " (1, 0, 1, 1),\n",
      " (1, 1, 0, 0),\n",
      " (1, 1, 0, 1),\n",
      " (1, 1, 1, 0),\n",
      " (1, 1, 1, 1)]\n"
     ]
    }
   ],
   "source": [
    "from itertools import product\n",
    "import pprint\n",
    "\n",
    "def is_correct(expression):\n",
    "    counter = 0\n",
    "    for bracket in expression:\n",
    "        if bracket == 0:\n",
    "            counter += 1\n",
    "        if bracket == 1:\n",
    "            counter -= 1\n",
    "        if counter < 0:\n",
    "            return False\n",
    "    if counter == 0:\n",
    "        return True\n",
    "    else:\n",
    "        return False\n",
    "\n",
    "\n",
    "N = int(input(\"Введите количество скобок: \"))\n",
    "\n",
    "all_combinations3 = product(*[[0, 1] for _ in range(N)])                                          # генерирует все возможные варианты (2 - ый перебор)\n",
    "pprint.pprint(list(all_combinations3))\n",
    "zeros_and_ones_expressions = filter(is_correct, all_combinations3)                                # оставляем только правильные скобочные выражения и подсчитываем их\n",
    "\n",
    "with open(r'input4(laba6).txt', 'w') as file:\n",
    "    for brackets in zeros_and_ones_expressions:\n",
    "        if N > 6:\n",
    "            right_bracket_expressions = list(map(lambda x: '(' if x == 0 else ')', brackets))\n",
    "            file.write(''.join(right_bracket_expressions) + '\\n')\n",
    "        else:\n",
    "            for brackets in zeros_and_ones_expressions:\n",
    "                right_bracket_expressions = list(map(lambda x: '(' if x == 0 else ')', brackets))\n",
    "            print(right_bracket_expressions)\n",
    "            print(brackets)"
   ],
   "metadata": {
    "collapsed": false,
    "pycharm": {
     "name": "#%%\n"
    }
   }
  },
  {
   "cell_type": "markdown",
   "source": [
    "## Задание 3. Написать программу, реализующую решение задачи, рассмотренной в качестве примера на лекции\n",
    "а) задача о сдаче."
   ],
   "metadata": {
    "collapsed": false,
    "pycharm": {
     "name": "#%% md\n"
    }
   }
  },
  {
   "cell_type": "code",
   "execution_count": 4,
   "outputs": [
    {
     "name": "stdout",
     "output_type": "stream",
     "text": [
      "{2000: 1, 200: 1, 10: 4}\n"
     ]
    }
   ],
   "source": [
    "def get_change(amount, banknotes):\n",
    "    change = {}\n",
    "    for banknote in banknotes:\n",
    "        while amount >= banknote:       # пока сумма больше или равна банкнотам\n",
    "            if banknote not in change:  # если банкнот нет в сдаче\n",
    "                change[banknote] = 0    # добавляем банкноту в словарь как ключ\n",
    "            change[banknote] += 1       # увеличиваем значение на 1 у ключа\n",
    "            amount -= banknote          # вычитаем банкноту из суммы\n",
    "    return change\n",
    "\n",
    "print(get_change(2240, [5000, 2000, 1000, 500, 200, 100, 50, 10]))\n",
    "\n",
    "# алгоритм является жадным так как на каждом шаге мы берем максимально возможную купюру (локально оптимальное решение)\n"
   ],
   "metadata": {
    "collapsed": false,
    "pycharm": {
     "name": "#%%\n"
    }
   }
  },
  {
   "cell_type": "markdown",
   "source": [
    "## Задание 4. Написать программу, реализующую решение задачи, рассмотренной в качестве примера на лекции:\n",
    "а)задача о лабиринте (требования к входным и выходным данным приведены ниже).\n",
    "Технические требования.\n",
    "Исходные данные хранятся в текстовом файле input.txt\n",
    "1-я строка –N и M, указанные через пробел;\n",
    "2-я строка –i0 и j0;\n",
    "3-я строка –i1 и j1;последующие N строк по M чисел–схема лабиринта"
   ],
   "metadata": {
    "collapsed": false,
    "pycharm": {
     "name": "#%% md\n"
    }
   }
  },
  {
   "cell_type": "code",
   "execution_count": 8,
   "outputs": [
    {
     "name": "stdout",
     "output_type": "stream",
     "text": [
      "[0, 0, 0, 0]\n",
      "[0, 0, 0, 0]\n",
      "[0, 0, 1, 0]\n",
      "[0, 0, 0, 0]\n",
      "\n",
      "[5, 4, 5, 4]\n",
      "[0, 3, 0, 3]\n",
      "[3, 2, 1, 2]\n",
      "[4, 0, 2, 3]\n",
      "Потребуется ходов: 3\n"
     ]
    }
   ],
   "source": [
    "with open(r'maze.txt') as file:\n",
    "    N, M = map(int, file.readline().split())\n",
    "    i0, j0 = map(int, file.readline().split())\n",
    "    i1, j1 = map(int, file.readline().split())\n",
    "    A = [list(map(int, file.readline().split())) for i in range(N)]\n",
    "    q = [(i0 - 1, j0 - 1)]\n",
    "path = [[0] * M for j in range(N)]\n",
    "path[i0 - 1][j0 - 1] = 1\n",
    "for i in path:\n",
    "    print(i)\n",
    "while q:\n",
    "    i, j = q.pop(0)\n",
    "    if i and A[i-1][j]:\n",
    "        path[i-1][j] = path[i][j] + 1\n",
    "        q.append((i-1, j))\n",
    "    if j and A[i][j-1]:\n",
    "        path[i][j-1] = path[i][j] + 1\n",
    "        q.append((i, j-1))\n",
    "    if i != N - 1 and A[i+1][j]:\n",
    "        path[i+1][j] = path[i][j] + 1\n",
    "        q.append((i+1, j))\n",
    "    if j != M - 1 and A[i][j+1]:\n",
    "        path[i][j+1] = path[i][j] + 1\n",
    "        q.append((i, j+1))\n",
    "    A[i][j] = 0\n",
    "print()\n",
    "for i in path:\n",
    "    print(i)\n",
    "print('Потребуется ходов:', path[i1 - 1][j1 - 1] - 1)\n"
   ],
   "metadata": {
    "collapsed": false,
    "pycharm": {
     "name": "#%%\n"
    }
   }
  },
  {
   "cell_type": "code",
   "execution_count": null,
   "outputs": [],
   "source": [],
   "metadata": {
    "collapsed": false,
    "pycharm": {
     "name": "#%%\n"
    }
   }
  }
 ],
 "metadata": {
  "kernelspec": {
   "display_name": "Python 3",
   "language": "python",
   "name": "python3"
  },
  "language_info": {
   "codemirror_mode": {
    "name": "ipython",
    "version": 2
   },
   "file_extension": ".py",
   "mimetype": "text/x-python",
   "name": "python",
   "nbconvert_exporter": "python",
   "pygments_lexer": "ipython2",
   "version": "2.7.6"
  }
 },
 "nbformat": 4,
 "nbformat_minor": 0
}
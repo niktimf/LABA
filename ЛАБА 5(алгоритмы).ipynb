{
 "cells": [
  {
   "cell_type": "markdown",
   "source": [
    "# Лабортаторная работа 5. Динамическое программирование."
   ],
   "metadata": {
    "collapsed": false,
    "pycharm": {
     "name": "#%% md\n"
    }
   }
  },
  {
   "cell_type": "markdown",
   "source": [
    "## Задание 1. Реализовать перечисленные ниже примеры задач, рассмотренные в лекции:\n",
    "\n",
    "а)задача о цепочках из 0 и 1 (N запросить у пользователя)\n"
   ],
   "metadata": {
    "collapsed": false,
    "pycharm": {
     "name": "#%% md\n"
    }
   }
  },
  {
   "cell_type": "code",
   "execution_count": 4,
   "outputs": [
    {
     "name": "stdout",
     "output_type": "stream",
     "text": [
      "3\n"
     ]
    }
   ],
   "source": [
    "n = int(input())\n",
    "k = [0] * n\n",
    "k[0] = 2\n",
    "k[1] = 3\n",
    "for i in range(2, n):\n",
    "\tk[i] = k[i - 1] + k[i - 2]\n",
    "print(k[n - 1])"
   ],
   "metadata": {
    "collapsed": false,
    "pycharm": {
     "name": "#%%\n"
    }
   }
  },
  {
   "cell_type": "markdown",
   "source": [
    "б)задача о бидонах (решить для емкостей бидонов 1, 5, 6 литров, N запросить у пользователя), программа должна выдавать и количество бидонов, и их емкости"
   ],
   "metadata": {
    "collapsed": false,
    "pycharm": {
     "name": "#%% md\n"
    }
   }
  },
  {
   "cell_type": "code",
   "execution_count": 4,
   "outputs": [
    {
     "name": "stdout",
     "output_type": "stream",
     "text": [
      "1 л, 6 л, "
     ]
    }
   ],
   "source": [
    "n = int(input())\n",
    "k = [0] * (n + 1)\n",
    "p = [0] * (n + 1)\n",
    "p[0] = 6\n",
    "for i in range(1, n + 1):\n",
    "\tif i < 5:\n",
    "\t\tk[i] = 1 + k[i - 1]\n",
    "\t\tp[i] = 1\n",
    "\telif i == 5:\n",
    "\t\tk[i] = 1\n",
    "\t\tp[i] = 5\n",
    "\telse:\n",
    "\t\tm = min(k[i - 1], k[i - 5], k[i - 6])\n",
    "\t\tif m == k[i - 6]:\n",
    "\t\t\tm = i - 6\n",
    "\t\telif m == k[i - 5]:\n",
    "\t\t\tm = i - 5\n",
    "\t\telse:\n",
    "\t\t\tm = i - 1\n",
    "\t\tk[i] = 1 + k[m]\n",
    "\t\tp[i] = p[m]\n",
    "p[0] = 0\n",
    "while n != 0:\n",
    "\tprint(p[n],'л,', end=' ')\n",
    "\tn -= p[n]"
   ],
   "metadata": {
    "collapsed": false,
    "pycharm": {
     "name": "#%%\n"
    }
   }
  },
  {
   "cell_type": "markdown",
   "source": [
    "в)задача о куче (набор весов камней задавать в виде константного списка в начале программы; W запрашивать у пользователя); достаточно, чтобы программа выдавала вес «оптимальной» кучи"
   ],
   "metadata": {
    "collapsed": false,
    "pycharm": {
     "name": "#%% md\n"
    }
   }
  },
  {
   "cell_type": "code",
   "execution_count": 24,
   "outputs": [
    {
     "name": "stdout",
     "output_type": "stream",
     "text": [
      "2\n"
     ]
    }
   ],
   "source": [
    "a = [2, 4, 5, 7]\n",
    "w = int(input())\n",
    "b = [[0] * (w + 1) for i in range(len(a))]\n",
    "for i in range(2, w + 1):\n",
    "\tb[0][i] = 2\n",
    "for i in range(1, len(b)):\n",
    "\tfor j in range(1, w + 1):\n",
    "\t\tif j < a[i]:\n",
    "\t\t\tb[i][j] = b[i - 1][j]\n",
    "\t\telse:\n",
    "\t\t\tif a[i]+b[i - 1][j - a[i]] > w:\n",
    "\t\t\t\tb[i][j] = b[i - 1][j]\n",
    "\t\t\telse:\n",
    "\t\t\t\tb[i][j] = a[i] + b[i - 1][j - a[i]]\n",
    "for i in b:\n",
    "\tprint(i)\n",
    "c = b[0][-1]\n",
    "for i in range(1, len(b)):\n",
    "\tc = max(c, b[i][-1])\n",
    "print(c)"
   ],
   "metadata": {
    "collapsed": false,
    "pycharm": {
     "name": "#%%\n"
    }
   }
  },
  {
   "cell_type": "markdown",
   "source": [
    "г)путь в массиве (массив задать в виде константного двумерного массива в начале программы, N1, N2 найти как параметры массива и в дальнейшем программа должна быть написана в общем виде, нормально работать при любом изменении константного массива); выводить оптимальное значение суммы и путь в виде последовательности пар индексов элементов массива."
   ],
   "metadata": {
    "collapsed": false,
    "pycharm": {
     "name": "#%% md\n"
    }
   }
  },
  {
   "cell_type": "code",
   "execution_count": 5,
   "outputs": [
    {
     "name": "stdout",
     "output_type": "stream",
     "text": [
      "[1, 3, 6, 10]\n",
      "[6, 12, 19, 27]\n",
      "[15, 23, 30, 36]\n",
      "36\n",
      "34-33-32-31-11\n"
     ]
    }
   ],
   "source": [
    "a = [[1, 2, 3, 4],\n",
    "\t [5, 6, 7, 8],\n",
    "\t [9, 8, 7, 6]]\n",
    "n1 = len(a)\n",
    "n2 = len(a[0])\n",
    "s = [[0] * n2 for i in range(n1)]\n",
    "s[0][0] = a[0][0]\n",
    "for i in range(1, n1):\n",
    "\ts[i][0] = s[i - 1][0] + a[i][0]\n",
    "for j in range(1, n2):\n",
    "\ts[0][j] = s[0][j - 1] + a[0][j]\n",
    "for i in range(1, n1):\n",
    "\tfor j in range(1, n2):\n",
    "\t\ts[i][j] = max(s[i - 1][j], s[i][j - 1]) + a[i][j]\n",
    "for i in s:\n",
    "\tprint(i)\n",
    "print(s[ - 1][ - 1])\n",
    "i = n1 - 1\n",
    "j = n2 - 1\n",
    "print(n1, n2, sep='', end='-')\n",
    "while i != 0 and j != 0:\n",
    "\tif s[i][j] - a[i][j] == s[i - 1][j]:\n",
    "\t\ti -= 1\n",
    "\telse:\n",
    "\t\tj -= 1\n",
    "\tprint(i + 1, j + 1, sep='', end='-')\n",
    "print(1, 1, sep='')"
   ],
   "metadata": {
    "collapsed": false,
    "pycharm": {
     "name": "#%%\n"
    }
   }
  },
  {
   "cell_type": "markdown",
   "source": [
    "## Задание 2.Написать программу для решения задачи двумя способами (рекурсивно и заполнением массива). Вариант 1.\n",
    "При решении задачи с использованием массива выводить на экран не только ответ, но и его поэтапное вычисление.У исполнителя есть команды: (см. таблицу, столбец «Команды»). Сколько есть разных программ, с помощью которых можно (см. таблицу, столбец «Условие»)?\n",
    "\n",
    "|Вариант|Команды| Условие |\n",
    "|-------|-------|---------|\n",
    "|   1   | Прибавить 1<br/>Прибавить 2<br/>Умножить на 2|Из исходного числа 3 получить число 12 и при этом траектория содержит число 10|\n"
   ],
   "metadata": {
    "collapsed": false,
    "pycharm": {
     "name": "#%% md\n"
    }
   }
  },
  {
   "cell_type": "code",
   "execution_count": 6,
   "outputs": [
    {
     "name": "stdout",
     "output_type": "stream",
     "text": [
      "81\n"
     ]
    }
   ],
   "source": [
    "def count_program(start, stop, point, c):\n",
    "\tc.append(start)\n",
    "\tif start > stop:\n",
    "\t\treturn 0\n",
    "\tif start == stop:\n",
    "\t\tif point in c:\n",
    "\t\t\treturn 1\n",
    "\treturn count_program(start + 1, stop, point, c) + count_program(start + 2, stop, point, c) + count_program(start * 2, stop, point, c)\n",
    "print(count_program(3, 12, 10, []))"
   ],
   "metadata": {
    "collapsed": false,
    "pycharm": {
     "name": "#%%\n"
    }
   }
  },
  {
   "cell_type": "code",
   "execution_count": 2,
   "outputs": [
    {
     "name": "stdout",
     "output_type": "stream",
     "text": [
      "81\n"
     ]
    }
   ],
   "source": [
    "k = [0] * (12 + 1)\n",
    "k[3] = 1\n",
    "for i in range(4, 12 + 1):\n",
    "\tk[i] = k[i - 1] + k[i - 2]\n",
    "\tif i % 2 == 0:\n",
    "\t\tk[i] += k[i // 2]\n",
    "print(k[i])"
   ],
   "metadata": {
    "collapsed": false,
    "pycharm": {
     "name": "#%%\n"
    }
   }
  },
  {
   "cell_type": "markdown",
   "source": [
    "## Задание 3. Используя метод динамического программирования, написать программу для решения предложенной задачи.\n",
    "\n",
    "Составить программы, решающие следующие задачи. Входные данные находятся в текстовом файле input.txt. В первой строке файла указаны через пробел размеры массива, каждый из которых не превосходит 20. В последующих строках перечислены элементы массива –целые числа. Результатом работы программы должны быть оптимальное значение целевой функции и путь, при котором оно достигается. Для указания пути вывести последовательность пар индексов элементов массива.\n",
    "\n",
    "Дан двумерный числовой массив размером N1 x N2. Найти такой путь от левого столбца массива к правому, чтобы сумма чисел по данному пути была минимальной. Из каждой клетки массива допустимо двигаться вправо, вправо-вниз или вправо-вверх. Считать, что нижняя и верхняя строки массива «склеены», т.е.из первой строки можно попасть в последнюю и наоборот, например, из ячейки [1, 1], двигаясь вправо-вверх, попадаем в ячейку [8, 2]."
   ],
   "metadata": {
    "collapsed": false,
    "pycharm": {
     "name": "#%% md\n"
    }
   }
  },
  {
   "cell_type": "code",
   "execution_count": 5,
   "outputs": [
    {
     "name": "stdout",
     "output_type": "stream",
     "text": [
      "[[52, 20, 21, 69, 11], [11, 80, 24, 32, 69], [12, 24, 29, 11, 63], [26, 72, 19, 89, 14], [22, 94, 20, 11, 52]]\n",
      "[52, 20, 21, 69, 11]\n",
      "[11, 80, 24, 32, 69]\n",
      "[12, 24, 29, 11, 63]\n",
      "[26, 72, 19, 89, 14]\n",
      "[22, 94, 20, 11, 52]\n",
      "[[52, 20, 21, 69, 11], [1000000000000.0, 1000000000000.0, 1000000000000.0, 1000000000000.0, 1000000000000.0], [1000000000000.0, 1000000000000.0, 1000000000000.0, 1000000000000.0, 1000000000000.0], [1000000000000.0, 1000000000000.0, 1000000000000.0, 1000000000000.0, 1000000000000.0], [1000000000000.0, 1000000000000.0, 1000000000000.0, 1000000000000.0, 1000000000000.0]]\n"
     ]
    }
   ],
   "source": [
    "\n",
    "file = open(r'C:\\Users\\morph\\Desktop\\input.txt')\n",
    "n1, n2 = map(int, file.readline().split())\n",
    "b = [file.readline().split() for i in range(n1)]\n",
    "ba = [list(map(int, i)) for i in b]\n",
    "print(ba)\n",
    "for i in b:\n",
    "\tfor j in range(n2):\n",
    "\t\ti[j] = int(i[j])\n",
    "for i in b:\n",
    "\tprint(i)\n",
    "s = [[1e12] * n2 for i in range(n1)]\n",
    "for i in range(0, len(ba)):\n",
    "\ts[0] = ba[0]\n",
    "print(s)\n",
    "\n"
   ],
   "metadata": {
    "collapsed": false,
    "pycharm": {
     "name": "#%%\n"
    }
   }
  },
  {
   "cell_type": "code",
   "execution_count": null,
   "outputs": [],
   "source": [],
   "metadata": {
    "collapsed": false,
    "pycharm": {
     "name": "#%%\n"
    }
   }
  }
 ],
 "metadata": {
  "kernelspec": {
   "display_name": "Python 3",
   "language": "python",
   "name": "python3"
  },
  "language_info": {
   "codemirror_mode": {
    "name": "ipython",
    "version": 2
   },
   "file_extension": ".py",
   "mimetype": "text/x-python",
   "name": "python",
   "nbconvert_exporter": "python",
   "pygments_lexer": "ipython2",
   "version": "2.7.6"
  }
 },
 "nbformat": 4,
 "nbformat_minor": 0
}
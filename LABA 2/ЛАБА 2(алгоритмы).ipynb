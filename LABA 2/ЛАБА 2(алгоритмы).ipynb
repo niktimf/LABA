{
 "cells": [
  {
   "cell_type": "markdown",
   "source": [
    "# Задание 1. Напишите программу в соответствии с вариантом, используя тип list."
   ],
   "metadata": {
    "collapsed": false,
    "pycharm": {
     "name": "#%% md\n"
    }
   }
  },
  {
   "cell_type": "markdown",
   "source": [
    "## 1. Даны очередь и стек целых чисел. Из элементов стека меньших минимального элемента очереди сформировать новый стек."
   ],
   "metadata": {
    "collapsed": false,
    "pycharm": {
     "name": "#%% md\n"
    }
   }
  },
  {
   "cell_type": "code",
   "execution_count": 2,
   "outputs": [
    {
     "name": "stdout",
     "output_type": "stream",
     "text": [
      "Исходная очередь: [7, 7, 6, -9]\n",
      "Исходный стек: [12, -21, -24, -7, 17, 26]\n",
      "Минимальное число в очереди: -9\n",
      "Новый стек: [-24, -21]\n"
     ]
    }
   ],
   "source": [
    "import random\n",
    "\n",
    "initial_queue_1 = [random.randint(-20, 20) for queue_1 in range(random.randint(0, 10))]\n",
    "print(f'Исходная очередь: {initial_queue_1}')\n",
    "\n",
    "initial_stack_1 = [random.randint(-40, 40) for stack_1 in range(random.randint(0, 10))]\n",
    "print(f'Исходный стек: {initial_stack_1}')\n",
    "\n",
    "\n",
    "def create_new_stack_1(input_queue: list, input_stack: list) -> list:\n",
    "\t\"\"\" Функция, создающая новый стек из элементов стека меньших минимального элемента очереди \"\"\"\n",
    "\tmin_num = input_queue.pop(0)\n",
    "\tfor _ in range(len(input_queue)):\n",
    "\t\tnew_min_num = input_queue.pop(0)\n",
    "\t\tif new_min_num < min_num:\n",
    "\t\t\tmin_num = new_min_num\n",
    "\tprint(f'Минимальное число в очереди: {min_num}')\n",
    "\tnew_stack = []\n",
    "\tfor _ in range(len(input_stack)):\n",
    "\t\tnew_min_num = input_stack.pop(-1)\n",
    "\t\tif new_min_num < min_num:\n",
    "\t\t\tnew_stack.append(new_min_num)\n",
    "\treturn new_stack\n",
    "\n",
    "\n",
    "print(f'Новый стек: {create_new_stack_1(initial_queue_1, initial_stack_1)}')"
   ],
   "metadata": {
    "collapsed": false,
    "pycharm": {
     "name": "#%%\n"
    }
   }
  },
  {
   "cell_type": "markdown",
   "source": [
    "# Задание 2. Напишите программу, создав динамические списки, используя модуль queue."
   ],
   "metadata": {
    "collapsed": false,
    "pycharm": {
     "name": "#%% md\n"
    }
   }
  },
  {
   "cell_type": "markdown",
   "source": [
    "## 1. Даны очередь и стек целых чисел. Из элементов стека меньших минимального элемента очереди сформировать новый стек."
   ],
   "metadata": {
    "collapsed": false,
    "pycharm": {
     "name": "#%% md\n"
    }
   }
  },
  {
   "cell_type": "code",
   "execution_count": 1,
   "outputs": [
    {
     "name": "stdout",
     "output_type": "stream",
     "text": [
      "Исходная очередь -3 -16 -13 -12 -15 -5 -19 -20 2 20 -16 10 4 0 1 -15 -11 15 5 5 16 -6 12 8 -3 13 \n",
      "Исходный стек 30 -39 19 -27 20 -14 -31 -32 -34 -26 4 -23 40 8 -33 \n",
      "Минимальное число в очереди: -20\n",
      "Новый стек -39 -27 -31 -32 -34 -26 -23 -33 "
     ]
    }
   ],
   "source": [
    "import queue\n",
    "import random\n",
    "\n",
    "\n",
    "initial_queue_2 = queue.Queue()\n",
    "print('Исходная очередь', end = ' ')\n",
    "for queue_2 in range(random.randint(0, 30)):\n",
    "\trand_num_queue = random.randint(-20, 20)\n",
    "\tinitial_queue_2.put(rand_num_queue)\n",
    "\tprint(rand_num_queue, end = ' ')\n",
    "print()\n",
    "\n",
    "\n",
    "initial_stack_2 = queue.LifoQueue()\n",
    "print('Исходный стек', end = ' ' )\n",
    "for stack_2 in range(random.randint(0, 30)):\n",
    "\trand_num_stack = random.randint(-40, 40)\n",
    "\tinitial_stack_2.put(rand_num_stack)\n",
    "\tprint(rand_num_stack, end = ' ')\n",
    "print()\n",
    "\n",
    "\n",
    "def create_new_stack_2(input_queue, input_stack):\n",
    "\t\"\"\" Функция, создающая новый стек из элементов стека меньших минимального элемента очереди \"\"\"\n",
    "\tmin_num = input_queue.get()\n",
    "\twhile not input_queue.empty():\n",
    "\t\tnew_min_num = input_queue.get()\n",
    "\t\tif new_min_num < min_num:\n",
    "\t\t\tmin_num = new_min_num\n",
    "\tprint(f'Минимальное число в очереди: {min_num}')\n",
    "\tstack = queue.LifoQueue()\n",
    "\twhile not input_stack.empty():\n",
    "\t\tnew_min_num = input_stack.get(-1)\n",
    "\t\tif new_min_num < min_num:\n",
    "\t\t\tstack.put(new_min_num)\n",
    "\treturn stack\n",
    "\n",
    "\n",
    "new_stack = create_new_stack_2(initial_queue_2, initial_stack_2)\n",
    "print('Новый стек', end = ' ')\n",
    "while not new_stack.empty():\n",
    "\tprint(new_stack.get(), end = ' ')"
   ],
   "metadata": {
    "collapsed": false,
    "pycharm": {
     "name": "#%%\n"
    }
   }
  },
  {
   "cell_type": "markdown",
   "source": [
    "# Задание 3. Реализовать с использованием стека алгоритм вычисления значения выражения, записанного в постфиксной форме. В выражении встречаются операции +,-,*,/ и целые числа, разделенные пробелами."
   ],
   "metadata": {
    "collapsed": false,
    "pycharm": {
     "name": "#%% md\n"
    }
   }
  },
  {
   "cell_type": "code",
   "execution_count": 11,
   "outputs": [
    {
     "name": "stdout",
     "output_type": "stream",
     "text": [
      "0.0\n"
     ]
    }
   ],
   "source": [
    "stack = []\n",
    "input_num = [num for num in input().split()]\n",
    "operators = set('+-*/')\n",
    "for element in input_num:\n",
    "\tif element in operators:\n",
    "\t\tx = stack.pop(-1)\n",
    "\t\ty = stack.pop(-1)\n",
    "\t\tcmd = f'stack.append({y} {element} {x})'\n",
    "\t\teval(cmd)\n",
    "\telse:\n",
    "\t\tstack.append(float(element))\n",
    "print(stack.pop(-1))"
   ],
   "metadata": {
    "collapsed": false,
    "pycharm": {
     "name": "#%%\n"
    }
   }
  },
  {
   "cell_type": "markdown",
   "source": [
    "# Задание 4. Реализовать с использованием деков из модуля collections(потребуется два дека) электронную очередь в пункте обслуживания. В пункте имеется два окна: 1 и 2. При записи в электронную очередь клиенты получают индивидуальные номера: A1, A2,A3 и т.д. –в окно 1 и B1, B2, B3и т.д.-в окно 2.Данные о клиентах (код -0) и их обслуживании(код 1)хранятся в текстовом файле input.txt, каждая строка которого –это либо сведения о вновь пришедшем клиенте в формате: 0 номер_окна, либо данные об обслуживании: 1 номер_окна."
   ],
   "metadata": {
    "collapsed": false,
    "pycharm": {
     "name": "#%% md\n"
    }
   }
  },
  {
   "cell_type": "code",
   "execution_count": 4,
   "outputs": [
    {
     "name": "stdout",
     "output_type": "stream",
     "text": [
      "Окно 1: deque(['A1'])\n",
      "Окно 2: deque([])\n",
      "\n",
      "Окно 1: deque(['A1', 'A2'])\n",
      "Окно 2: deque([])\n",
      "\n",
      "Окно 1: deque(['A2'])\n",
      "Окно 2: deque([])\n",
      "\n",
      "Окно 1: deque(['A2'])\n",
      "Окно 2: deque(['B1'])\n",
      "\n",
      "Окно 1: deque(['A2', 'A3'])\n",
      "Окно 2: deque(['B1'])\n",
      "\n",
      "Окно 1: deque(['A2', 'A3'])\n",
      "Окно 2: deque([])\n",
      "\n"
     ]
    }
   ],
   "source": [
    "import collections\n",
    "\n",
    "deq_a = collections.deque()\n",
    "deq_b = collections.deque()\n",
    "count_a = 0\n",
    "count_b = 0\n",
    "with open('service.txt') as f:\n",
    "\tfor line in f:\n",
    "\t\tcode = line[0]\n",
    "\t\twindow = line[2]\n",
    "\t\tif code == '0':\n",
    "\t\t\tif window == '1':\n",
    "\t\t\t\tcount_a += 1\n",
    "\t\t\t\tdeq_a.append('A' + str(count_a))\n",
    "\t\t\telif window == '2':\n",
    "\t\t\t\tcount_b += 1\n",
    "\t\t\t\tdeq_b.append('B' + str(count_b))\n",
    "\t\telif code == '1':\n",
    "\t\t\tif window == '1':\n",
    "\t\t\t\tdeq_a.popleft()\n",
    "\t\t\telif window == '2':\n",
    "\t\t\t\tdeq_b.popleft()\n",
    "\t\tprint('Окно 1:', deq_a)\n",
    "\t\tprint('Окно 2:', deq_b)\n",
    "\t\tprint()"
   ],
   "metadata": {
    "collapsed": false,
    "pycharm": {
     "name": "#%%\n"
    }
   }
  },
  {
   "cell_type": "code",
   "execution_count": null,
   "outputs": [],
   "source": [],
   "metadata": {
    "collapsed": false,
    "pycharm": {
     "name": "#%%\n"
    }
   }
  }
 ],
 "metadata": {
  "kernelspec": {
   "display_name": "Python 3",
   "language": "python",
   "name": "python3"
  },
  "language_info": {
   "codemirror_mode": {
    "name": "ipython",
    "version": 2
   },
   "file_extension": ".py",
   "mimetype": "text/x-python",
   "name": "python",
   "nbconvert_exporter": "python",
   "pygments_lexer": "ipython2",
   "version": "2.7.6"
  }
 },
 "nbformat": 4,
 "nbformat_minor": 0
}